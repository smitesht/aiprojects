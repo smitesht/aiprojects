{
 "cells": [
  {
   "cell_type": "code",
   "execution_count": 1,
   "metadata": {},
   "outputs": [],
   "source": [
    "import pickle\n",
    "import os\n",
    "from tensorflow import keras\n",
    "from keras.preprocessing.text import Tokenizer\n",
    "from tensorflow.keras.preprocessing.sequence import pad_sequences\n",
    "from tensorflow.keras.models import load_model\n",
    "from flask import Flask, render_template, request, jsonify\n",
    "from flask_cors import CORS\n",
    "import json"
   ]
  },
  {
   "cell_type": "code",
   "execution_count": 2,
   "metadata": {},
   "outputs": [],
   "source": [
    "with open('./model/tokenizer.pickle', 'rb') as handle:\n",
    "    tokenizer = pickle.load(handle)"
   ]
  },
  {
   "cell_type": "code",
   "execution_count": 3,
   "metadata": {},
   "outputs": [],
   "source": [
    "def get_review(review):\n",
    "    sentence_list = []\n",
    "    sentence_list.append(review)\n",
    "    sequences = tokenizer.texts_to_sequences(sentence_list)\n",
    "    input = pad_sequences(sequences, maxlen=200, padding='pre')\n",
    "    #print(input)\n",
    "    model = load_model('./model/restaurant.h5')\n",
    "    output = model.predict(input)\n",
    "    #print(output[0])\n",
    "    \n",
    "    if output[0] >= 0.5:    \n",
    "        #print(\"The feedback from user is Positive\")    \n",
    "        return 1\n",
    "    else:\n",
    "        #print(\"The feedback from user is Negative\")\n",
    "        return 0     "
   ]
  },
  {
   "cell_type": "code",
   "execution_count": 21,
   "metadata": {},
   "outputs": [
    {
     "name": "stdout",
     "output_type": "stream",
     "text": [
      "WARNING:tensorflow:6 out of the last 6 calls to <function Model.make_predict_function.<locals>.predict_function at 0x00000283BB5AD5E0> triggered tf.function retracing. Tracing is expensive and the excessive number of tracings could be due to (1) creating @tf.function repeatedly in a loop, (2) passing tensors with different shapes, (3) passing Python objects instead of tensors. For (1), please define your @tf.function outside of the loop. For (2), @tf.function has reduce_retracing=True option that can avoid unnecessary retracing. For (3), please refer to https://www.tensorflow.org/guide/function#controlling_retracing and https://www.tensorflow.org/api_docs/python/tf/function for  more details.\n",
      "1/1 [==============================] - 2s 2s/step\n"
     ]
    },
    {
     "data": {
      "text/plain": [
       "1"
      ]
     },
     "execution_count": 21,
     "metadata": {},
     "output_type": "execute_result"
    }
   ],
   "source": [
    "get_review(\"the food was great\")"
   ]
  },
  {
   "cell_type": "code",
   "execution_count": 4,
   "metadata": {},
   "outputs": [
    {
     "name": "stdout",
     "output_type": "stream",
     "text": [
      " * Serving Flask app '__main__' (lazy loading)\n",
      " * Environment: production\n",
      "\u001b[31m   WARNING: This is a development server. Do not use it in a production deployment.\u001b[0m\n",
      "\u001b[2m   Use a production WSGI server instead.\u001b[0m\n",
      " * Debug mode: off\n"
     ]
    },
    {
     "name": "stderr",
     "output_type": "stream",
     "text": [
      " * Running on http://127.0.0.1:5000/ (Press CTRL+C to quit)\n",
      "127.0.0.1 - - [14/Dec/2022 18:09:44] \"GET / HTTP/1.1\" 200 -\n",
      "127.0.0.1 - - [14/Dec/2022 18:09:44] \"GET /static/images/like.png HTTP/1.1\" 304 -\n",
      "127.0.0.1 - - [14/Dec/2022 18:09:44] \"GET /static/images/dislike.png HTTP/1.1\" 304 -\n",
      "127.0.0.1 - - [14/Dec/2022 18:09:44] \"GET /static/images/brand_logo.png HTTP/1.1\" 304 -\n",
      "127.0.0.1 - - [14/Dec/2022 18:09:44] \"GET /static/images/restaurant_image.png HTTP/1.1\" 304 -\n"
     ]
    },
    {
     "name": "stdout",
     "output_type": "stream",
     "text": [
      "1/1 [==============================] - 2s 2s/step\n"
     ]
    },
    {
     "name": "stderr",
     "output_type": "stream",
     "text": [
      "127.0.0.1 - - [14/Dec/2022 18:10:56] \"POST /review HTTP/1.1\" 200 -\n"
     ]
    },
    {
     "name": "stdout",
     "output_type": "stream",
     "text": [
      "{'sentiment': 0, 'review': \"Food was pretty good, I had the loaded burger with sweet potatoe fries, can't really go wrong with that and it was tasty. My daughter had the smoked salmon with avocado bagel and did not enjoy it.\"}\n",
      "1/1 [==============================] - 2s 2s/step\n"
     ]
    },
    {
     "name": "stderr",
     "output_type": "stream",
     "text": [
      "127.0.0.1 - - [14/Dec/2022 18:12:11] \"POST /review HTTP/1.1\" 200 -\n"
     ]
    },
    {
     "name": "stdout",
     "output_type": "stream",
     "text": [
      "{'sentiment': 1, 'review': 'Everything is perfect. Staff, manager, food, ambiance….delicious courteous cozy… I love this place…..Thank you Emily for your services and suggestions for beer'}\n"
     ]
    }
   ],
   "source": [
    "app = Flask(__name__)\n",
    "CORS(app)\n",
    "\n",
    "@app.route('/',methods=['GET'])\n",
    "def Home():\n",
    "    return render_template('index.html')\n",
    "\n",
    "@app.route('/review', methods = ['POST'])\n",
    "def review():\n",
    "    if request.method == 'POST':\n",
    "        record = request.get_json()    \n",
    "        user_feedback = record['review']\n",
    "        prediction_val = get_review(user_feedback)    \n",
    "        prediction = {}\n",
    "        prediction['sentiment'] = prediction_val\n",
    "        prediction['review'] = record['review']\n",
    "        print(prediction)        \n",
    "        return json.dumps(prediction)\n",
    "    \n",
    "if __name__ == \"__main__\":\n",
    "    app.run(use_reloader=False)"
   ]
  }
 ],
 "metadata": {
  "kernelspec": {
   "display_name": "rest-test-env",
   "language": "python",
   "name": "python3"
  },
  "language_info": {
   "codemirror_mode": {
    "name": "ipython",
    "version": 3
   },
   "file_extension": ".py",
   "mimetype": "text/x-python",
   "name": "python",
   "nbconvert_exporter": "python",
   "pygments_lexer": "ipython3",
   "version": "3.9.15"
  },
  "orig_nbformat": 4,
  "vscode": {
   "interpreter": {
    "hash": "0e60581454c5cecc80ac8e5e086f5053d8156f27dc2b1eab097b6a4adc6b8631"
   }
  }
 },
 "nbformat": 4,
 "nbformat_minor": 2
}
